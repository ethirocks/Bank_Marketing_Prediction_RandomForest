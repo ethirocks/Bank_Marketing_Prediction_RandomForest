{
 "cells": [
  {
   "cell_type": "code",
   "execution_count": 1,
   "metadata": {},
   "outputs": [],
   "source": [
    "import pandas as pd\n",
    "import numpy as np\n",
    "import matplotlib as plt\n",
    "from sklearn.preprocessing import LabelEncoder\n",
    "from sklearn.model_selection import train_test_split\n",
    "from sklearn.ensemble import RandomForestRegressor\n",
    "from sklearn.metrics import accuracy_score"
   ]
  },
  {
   "cell_type": "code",
   "execution_count": 2,
   "metadata": {},
   "outputs": [],
   "source": [
    "df = pd.read_csv(\"C:/Users/ETHIRAJ/Desktop/bank/bank-additional-full.csv\",sep=';')\n",
    "test = pd.read_csv(\"C:/Users/ETHIRAJ/Desktop/bank/bank-additional.csv\",sep=';')"
   ]
  },
  {
   "cell_type": "code",
   "execution_count": 3,
   "metadata": {},
   "outputs": [
    {
     "name": "stdout",
     "output_type": "stream",
     "text": [
      "   age        job  marital    education  default housing loan    contact  \\\n",
      "0   56  housemaid  married     basic.4y       no      no   no  telephone   \n",
      "1   57   services  married  high.school  unknown      no   no  telephone   \n",
      "2   37   services  married  high.school       no     yes   no  telephone   \n",
      "3   40     admin.  married     basic.6y       no      no   no  telephone   \n",
      "4   56   services  married  high.school       no      no  yes  telephone   \n",
      "5   45   services  married     basic.9y  unknown      no   no  telephone   \n",
      "\n",
      "  month day_of_week ...  campaign  pdays  previous     poutcome emp.var.rate  \\\n",
      "0   may         mon ...         1    999         0  nonexistent          1.1   \n",
      "1   may         mon ...         1    999         0  nonexistent          1.1   \n",
      "2   may         mon ...         1    999         0  nonexistent          1.1   \n",
      "3   may         mon ...         1    999         0  nonexistent          1.1   \n",
      "4   may         mon ...         1    999         0  nonexistent          1.1   \n",
      "5   may         mon ...         1    999         0  nonexistent          1.1   \n",
      "\n",
      "   cons.price.idx  cons.conf.idx  euribor3m  nr.employed   y  \n",
      "0          93.994          -36.4      4.857       5191.0  no  \n",
      "1          93.994          -36.4      4.857       5191.0  no  \n",
      "2          93.994          -36.4      4.857       5191.0  no  \n",
      "3          93.994          -36.4      4.857       5191.0  no  \n",
      "4          93.994          -36.4      4.857       5191.0  no  \n",
      "5          93.994          -36.4      4.857       5191.0  no  \n",
      "\n",
      "[6 rows x 21 columns]\n"
     ]
    }
   ],
   "source": [
    "print(df.head(6))"
   ]
  },
  {
   "cell_type": "code",
   "execution_count": 4,
   "metadata": {},
   "outputs": [
    {
     "name": "stdout",
     "output_type": "stream",
     "text": [
      "   age  job  marital  education  default  housing  loan  contact  month  \\\n",
      "0   56    5        1          0        0        0     0        5      6   \n",
      "1   57    9        1          3        1        0     0        9      6   \n",
      "2   37    9        1          3        0        2     0        9      6   \n",
      "3   40    0        1          1        0        0     0        0      6   \n",
      "4   56    9        1          3        0        0     2        9      6   \n",
      "5   45    9        1          2        1        0     0        9      6   \n",
      "\n",
      "   day_of_week ...  campaign  pdays  previous  poutcome  emp.var.rate  \\\n",
      "0            1 ...         1    999         0         1           1.1   \n",
      "1            1 ...         1    999         0         1           1.1   \n",
      "2            1 ...         1    999         0         1           1.1   \n",
      "3            1 ...         1    999         0         1           1.1   \n",
      "4            1 ...         1    999         0         1           1.1   \n",
      "5            1 ...         1    999         0         1           1.1   \n",
      "\n",
      "   cons.price.idx  cons.conf.idx  euribor3m  nr.employed  y  \n",
      "0          93.994          -36.4      4.857       5191.0  0  \n",
      "1          93.994          -36.4      4.857       5191.0  0  \n",
      "2          93.994          -36.4      4.857       5191.0  0  \n",
      "3          93.994          -36.4      4.857       5191.0  0  \n",
      "4          93.994          -36.4      4.857       5191.0  0  \n",
      "5          93.994          -36.4      4.857       5191.0  0  \n",
      "\n",
      "[6 rows x 21 columns]\n",
      "   age  job  marital  education  default  housing  loan  contact  month  \\\n",
      "0   30    1        1          2        0        2     0        1      6   \n",
      "1   39    9        2          3        0        0     0        9      6   \n",
      "2   25    9        1          3        0        2     0        9      4   \n",
      "3   38    9        1          2        0        1     1        9      4   \n",
      "4   47    0        1          6        0        2     0        0      7   \n",
      "5   32    9        2          6        0        0     0        9      9   \n",
      "\n",
      "   day_of_week ...  campaign  pdays  previous  poutcome  emp.var.rate  \\\n",
      "0            0 ...         2    999         0         1          -1.8   \n",
      "1            0 ...         4    999         0         1           1.1   \n",
      "2            4 ...         1    999         0         1           1.4   \n",
      "3            0 ...         3    999         0         1           1.4   \n",
      "4            1 ...         1    999         0         1          -0.1   \n",
      "5            2 ...         3    999         2         0          -1.1   \n",
      "\n",
      "   cons.price.idx  cons.conf.idx  euribor3m  nr.employed  y  \n",
      "0          92.893          -46.2      1.313       5099.1  0  \n",
      "1          93.994          -36.4      4.855       5191.0  0  \n",
      "2          94.465          -41.8      4.962       5228.1  0  \n",
      "3          94.465          -41.8      4.959       5228.1  0  \n",
      "4          93.200          -42.0      4.191       5195.8  0  \n",
      "5          94.199          -37.5      0.884       4963.6  0  \n",
      "\n",
      "[6 rows x 21 columns]\n"
     ]
    }
   ],
   "source": [
    "number = LabelEncoder();\n",
    "df['job']= number.fit_transform(df['job'].astype('str'))\n",
    "df['marital']= number.fit_transform(df['marital'].astype('str'))\n",
    "df['education']= number.fit_transform(df['education'].astype('str'))\n",
    "df['default']= number.fit_transform(df['default'].astype('str'))\n",
    "df['housing']= number.fit_transform(df['housing'].astype('str'))\n",
    "df['loan']= number.fit_transform(df['loan'].astype('str'))\n",
    "df['contact']= number.fit_transform(df['job'].astype('str'))\n",
    "df['job']= number.fit_transform(df['job'].astype('str'))\n",
    "df['month']= number.fit_transform(df['month'].astype('str'))\n",
    "df['day_of_week']= number.fit_transform(df['day_of_week'].astype('str'))\n",
    "df['poutcome']= number.fit_transform(df['poutcome'].astype('str'))\n",
    "df['y']= number.fit_transform(df['y'].astype('str'))\n",
    "test['job']= number.fit_transform(test['job'].astype('str'))\n",
    "test['marital']= number.fit_transform(test['marital'].astype('str'))\n",
    "test['education']= number.fit_transform(test['education'].astype('str'))\n",
    "test['default']= number.fit_transform(test['default'].astype('str'))\n",
    "test['housing']= number.fit_transform(test['housing'].astype('str'))\n",
    "test['loan']= number.fit_transform(test['loan'].astype('str'))\n",
    "test['contact']= number.fit_transform(test['job'].astype('str'))\n",
    "test['job']= number.fit_transform(test['job'].astype('str'))\n",
    "test['month']= number.fit_transform(test['month'].astype('str'))\n",
    "test['day_of_week']= number.fit_transform(test['day_of_week'].astype('str'))\n",
    "test['poutcome']= number.fit_transform(test['poutcome'].astype('str'))\n",
    "test['y']= number.fit_transform(test['y'].astype('str'))\n",
    "print(df.head(6))\n",
    "print(test.head(6))"
   ]
  },
  {
   "cell_type": "code",
   "execution_count": 5,
   "metadata": {},
   "outputs": [
    {
     "name": "stdout",
     "output_type": "stream",
     "text": [
      "               age           job       marital     education       default  \\\n",
      "count  41188.00000  41188.000000  41188.000000  41188.000000  41188.000000   \n",
      "mean      40.02406      4.442847      1.172769      3.747184      0.208872   \n",
      "std       10.42125      4.291247      0.608902      2.136482      0.406686   \n",
      "min       17.00000      0.000000      0.000000      0.000000      0.000000   \n",
      "25%       32.00000      0.000000      1.000000      2.000000      0.000000   \n",
      "50%       38.00000      2.000000      1.000000      3.000000      0.000000   \n",
      "75%       47.00000      9.000000      2.000000      6.000000      0.000000   \n",
      "max       98.00000     11.000000      3.000000      7.000000      2.000000   \n",
      "\n",
      "            housing          loan       contact         month   day_of_week  \\\n",
      "count  41188.000000  41188.000000  41188.000000  41188.000000  41188.000000   \n",
      "mean       1.071720      0.327425      4.442847      4.230868      2.004613   \n",
      "std        0.985314      0.723616      4.291247      2.320025      1.397575   \n",
      "min        0.000000      0.000000      0.000000      0.000000      0.000000   \n",
      "25%        0.000000      0.000000      0.000000      3.000000      1.000000   \n",
      "50%        2.000000      0.000000      2.000000      4.000000      2.000000   \n",
      "75%        2.000000      0.000000      9.000000      6.000000      3.000000   \n",
      "max        2.000000      2.000000     11.000000      9.000000      4.000000   \n",
      "\n",
      "           ...           campaign         pdays      previous      poutcome  \\\n",
      "count      ...       41188.000000  41188.000000  41188.000000  41188.000000   \n",
      "mean       ...           2.567593    962.475454      0.172963      0.930101   \n",
      "std        ...           2.770014    186.910907      0.494901      0.362886   \n",
      "min        ...           1.000000      0.000000      0.000000      0.000000   \n",
      "25%        ...           1.000000    999.000000      0.000000      1.000000   \n",
      "50%        ...           2.000000    999.000000      0.000000      1.000000   \n",
      "75%        ...           3.000000    999.000000      0.000000      1.000000   \n",
      "max        ...          56.000000    999.000000      7.000000      2.000000   \n",
      "\n",
      "       emp.var.rate  cons.price.idx  cons.conf.idx     euribor3m  \\\n",
      "count  41188.000000    41188.000000   41188.000000  41188.000000   \n",
      "mean       0.081886       93.575664     -40.502600      3.621291   \n",
      "std        1.570960        0.578840       4.628198      1.734447   \n",
      "min       -3.400000       92.201000     -50.800000      0.634000   \n",
      "25%       -1.800000       93.075000     -42.700000      1.344000   \n",
      "50%        1.100000       93.749000     -41.800000      4.857000   \n",
      "75%        1.400000       93.994000     -36.400000      4.961000   \n",
      "max        1.400000       94.767000     -26.900000      5.045000   \n",
      "\n",
      "        nr.employed             y  \n",
      "count  41188.000000  41188.000000  \n",
      "mean    5167.035911      0.112654  \n",
      "std       72.251528      0.316173  \n",
      "min     4963.600000      0.000000  \n",
      "25%     5099.100000      0.000000  \n",
      "50%     5191.000000      0.000000  \n",
      "75%     5228.100000      0.000000  \n",
      "max     5228.100000      1.000000  \n",
      "\n",
      "[8 rows x 21 columns]\n"
     ]
    }
   ],
   "source": [
    "print(df.describe())"
   ]
  },
  {
   "cell_type": "code",
   "execution_count": 6,
   "metadata": {},
   "outputs": [],
   "source": [
    "train_labels = np.array(df['y'])\n",
    "train_features= df.drop('y', axis = 1)\n",
    "test_labels = np.array(test['y'])\n",
    "test_features= test.drop('y', axis = 1)\n",
    "feature_list = list(df.columns)"
   ]
  },
  {
   "cell_type": "code",
   "execution_count": 7,
   "metadata": {},
   "outputs": [],
   "source": [
    "rf = RandomForestRegressor(n_estimators = 1000, random_state = 42)\n",
    "rf.fit(train_features, train_labels);"
   ]
  },
  {
   "cell_type": "code",
   "execution_count": 8,
   "metadata": {},
   "outputs": [
    {
     "name": "stdout",
     "output_type": "stream",
     "text": [
      "Mean Absolute Error: 0.04 degrees.\n"
     ]
    }
   ],
   "source": [
    "predictions = rf.predict(test_features)\n",
    "errors = abs(predictions - test_labels)\n",
    "print('Mean Absolute Error:', round(np.mean(errors), 2), 'degrees.')"
   ]
  },
  {
   "cell_type": "code",
   "execution_count": 9,
   "metadata": {},
   "outputs": [
    {
     "data": {
      "text/plain": [
       "0    3668\n",
       "1     451\n",
       "Name: y, dtype: int64"
      ]
     },
     "execution_count": 9,
     "metadata": {},
     "output_type": "execute_result"
    }
   ],
   "source": [
    "test['y'].value_counts()"
   ]
  },
  {
   "cell_type": "code",
   "execution_count": 10,
   "metadata": {},
   "outputs": [
    {
     "name": "stdout",
     "output_type": "stream",
     "text": [
      "1.0\n"
     ]
    }
   ],
   "source": [
    "accuracy = accuracy_score(test_labels, predictions.round())\n",
    "print(accuracy)"
   ]
  },
  {
   "cell_type": "code",
   "execution_count": 13,
   "metadata": {},
   "outputs": [
    {
     "name": "stdout",
     "output_type": "stream",
     "text": [
      "3217 total number of unnecesary calls\n"
     ]
    }
   ],
   "source": [
    "print(3668-451,\"total number of unnecesary calls\")"
   ]
  },
  {
   "cell_type": "code",
   "execution_count": 14,
   "metadata": {},
   "outputs": [
    {
     "name": "stdout",
     "output_type": "stream",
     "text": [
      "78.1014809419762 % of total savings in call\n",
      "100.0 % of prospects gained\n"
     ]
    }
   ],
   "source": [
    "print((3217/4119)*100,\"% of total savings in call\")\n",
    "print((451/451)*100,\"% of prospects gained\")"
   ]
  },
  {
   "cell_type": "code",
   "execution_count": 15,
   "metadata": {},
   "outputs": [],
   "source": [
    "#model has a possibility of overfitting"
   ]
  },
  {
   "cell_type": "code",
   "execution_count": null,
   "metadata": {},
   "outputs": [],
   "source": []
  }
 ],
 "metadata": {
  "kernelspec": {
   "display_name": "Python 3",
   "language": "python",
   "name": "python3"
  },
  "language_info": {
   "codemirror_mode": {
    "name": "ipython",
    "version": 3
   },
   "file_extension": ".py",
   "mimetype": "text/x-python",
   "name": "python",
   "nbconvert_exporter": "python",
   "pygments_lexer": "ipython3",
   "version": "3.7.1"
  }
 },
 "nbformat": 4,
 "nbformat_minor": 2
}
