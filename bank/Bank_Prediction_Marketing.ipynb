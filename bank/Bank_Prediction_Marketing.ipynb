{
 "cells": [
  {
   "cell_type": "code",
   "execution_count": 1,
   "metadata": {},
   "outputs": [],
   "source": [
    "import pandas as pd\n",
    "import numpy as np\n",
    "import matplotlib as plt\n",
    "from sklearn.preprocessing import LabelEncoder\n",
    "from sklearn.model_selection import train_test_split\n",
    "from sklearn.ensemble import RandomForestRegressor\n",
    "from sklearn.metrics import accuracy_score"
   ]
  },
  {
   "cell_type": "code",
   "execution_count": 2,
   "metadata": {},
   "outputs": [],
   "source": [
    "df = pd.read_csv(\"C:/Users/ETHIRAJ/Desktop/bank/bank-full.csv\",sep=';')\n",
    "test = pd.read_csv(\"C:/Users/ETHIRAJ/Desktop/bank/bank.csv\",sep=';')"
   ]
  },
  {
   "cell_type": "code",
   "execution_count": 3,
   "metadata": {},
   "outputs": [
    {
     "name": "stdout",
     "output_type": "stream",
     "text": [
      "   age           job  marital  education default  balance housing loan  \\\n",
      "0   58    management  married   tertiary      no     2143     yes   no   \n",
      "1   44    technician   single  secondary      no       29     yes   no   \n",
      "2   33  entrepreneur  married  secondary      no        2     yes  yes   \n",
      "3   47   blue-collar  married    unknown      no     1506     yes   no   \n",
      "4   33       unknown   single    unknown      no        1      no   no   \n",
      "5   35    management  married   tertiary      no      231     yes   no   \n",
      "\n",
      "   contact  day month  duration  campaign  pdays  previous poutcome   y  \n",
      "0  unknown    5   may       261         1     -1         0  unknown  no  \n",
      "1  unknown    5   may       151         1     -1         0  unknown  no  \n",
      "2  unknown    5   may        76         1     -1         0  unknown  no  \n",
      "3  unknown    5   may        92         1     -1         0  unknown  no  \n",
      "4  unknown    5   may       198         1     -1         0  unknown  no  \n",
      "5  unknown    5   may       139         1     -1         0  unknown  no  \n"
     ]
    }
   ],
   "source": [
    "print(df.head(6))"
   ]
  },
  {
   "cell_type": "code",
   "execution_count": 4,
   "metadata": {},
   "outputs": [
    {
     "name": "stdout",
     "output_type": "stream",
     "text": [
      "   age  job  marital  education  default  balance  housing  loan  contact  \\\n",
      "0   58    6        1          2        0     2143        1     0        6   \n",
      "1   44   11        2          1        0       29        1     0       11   \n",
      "2   33    4        1          1        0        2        1     1        4   \n",
      "3   47    1        1          3        0     1506        1     0        1   \n",
      "4   33    3        2          3        0        1        0     0        3   \n",
      "5   35    6        1          2        0      231        1     0        6   \n",
      "\n",
      "   day  month  duration  campaign  pdays  previous  poutcome  y  \n",
      "0    5      8       261         1     -1         0         3  0  \n",
      "1    5      8       151         1     -1         0         3  0  \n",
      "2    5      8        76         1     -1         0         3  0  \n",
      "3    5      8        92         1     -1         0         3  0  \n",
      "4    5      8       198         1     -1         0         3  0  \n",
      "5    5      8       139         1     -1         0         3  0  \n",
      "   age  job  marital  education  default  balance  housing  loan  contact  \\\n",
      "0   30    2        1          0        0     1787        0     0        2   \n",
      "1   33    9        1          1        0     4789        1     1        9   \n",
      "2   35    6        2          2        0     1350        1     0        6   \n",
      "3   30    6        1          2        0     1476        1     1        6   \n",
      "4   59    1        1          1        0        0        1     0        1   \n",
      "5   35    6        2          2        0      747        0     0        6   \n",
      "\n",
      "   day  month  duration  campaign  pdays  previous  poutcome  y  \n",
      "0   19     10        79         1     -1         0         3  0  \n",
      "1   11      8       220         1    339         4         0  0  \n",
      "2   16      0       185         1    330         1         0  0  \n",
      "3    3      6       199         4     -1         0         3  0  \n",
      "4    5      8       226         1     -1         0         3  0  \n",
      "5   23      3       141         2    176         3         0  0  \n"
     ]
    }
   ],
   "source": [
    "number = LabelEncoder();\n",
    "df['job']= number.fit_transform(df['job'].astype('str'))\n",
    "df['marital']= number.fit_transform(df['marital'].astype('str'))\n",
    "df['education']= number.fit_transform(df['education'].astype('str'))\n",
    "df['default']= number.fit_transform(df['default'].astype('str'))\n",
    "df['housing']= number.fit_transform(df['housing'].astype('str'))\n",
    "df['loan']= number.fit_transform(df['loan'].astype('str'))\n",
    "df['contact']= number.fit_transform(df['job'].astype('str'))\n",
    "df['job']= number.fit_transform(df['job'].astype('str'))\n",
    "df['month']= number.fit_transform(df['month'].astype('str'))\n",
    "df['poutcome']= number.fit_transform(df['poutcome'].astype('str'))\n",
    "df['y']= number.fit_transform(df['y'].astype('str'))\n",
    "test['job']= number.fit_transform(test['job'].astype('str'))\n",
    "test['marital']= number.fit_transform(test['marital'].astype('str'))\n",
    "test['education']= number.fit_transform(test['education'].astype('str'))\n",
    "test['default']= number.fit_transform(test['default'].astype('str'))\n",
    "test['housing']= number.fit_transform(test['housing'].astype('str'))\n",
    "test['loan']= number.fit_transform(test['loan'].astype('str'))\n",
    "test['contact']= number.fit_transform(test['job'].astype('str'))\n",
    "test['job']= number.fit_transform(test['job'].astype('str'))\n",
    "test['month']= number.fit_transform(test['month'].astype('str'))\n",
    "test['poutcome']= number.fit_transform(test['poutcome'].astype('str'))\n",
    "test['y']= number.fit_transform(test['y'].astype('str'))\n",
    "print(df.head(6))\n",
    "print(test.head(6))"
   ]
  },
  {
   "cell_type": "code",
   "execution_count": 5,
   "metadata": {},
   "outputs": [
    {
     "name": "stdout",
     "output_type": "stream",
     "text": [
      "                age           job       marital     education       default  \\\n",
      "count  45211.000000  45211.000000  45211.000000  45211.000000  45211.000000   \n",
      "mean      40.936210      5.328593      1.167725      1.224813      0.018027   \n",
      "std       10.618762      3.908380      0.608230      0.747997      0.133049   \n",
      "min       18.000000      0.000000      0.000000      0.000000      0.000000   \n",
      "25%       33.000000      1.000000      1.000000      1.000000      0.000000   \n",
      "50%       39.000000      6.000000      1.000000      1.000000      0.000000   \n",
      "75%       48.000000      9.000000      2.000000      2.000000      0.000000   \n",
      "max       95.000000     11.000000      2.000000      3.000000      1.000000   \n",
      "\n",
      "             balance       housing          loan       contact           day  \\\n",
      "count   45211.000000  45211.000000  45211.000000  45211.000000  45211.000000   \n",
      "mean     1362.272058      0.555838      0.160226      5.328593     15.806419   \n",
      "std      3044.765829      0.496878      0.366820      3.908380      8.322476   \n",
      "min     -8019.000000      0.000000      0.000000      0.000000      1.000000   \n",
      "25%        72.000000      0.000000      0.000000      1.000000      8.000000   \n",
      "50%       448.000000      1.000000      0.000000      6.000000     16.000000   \n",
      "75%      1428.000000      1.000000      0.000000      9.000000     21.000000   \n",
      "max    102127.000000      1.000000      1.000000     11.000000     31.000000   \n",
      "\n",
      "              month      duration      campaign         pdays      previous  \\\n",
      "count  45211.000000  45211.000000  45211.000000  45211.000000  45211.000000   \n",
      "mean       5.523014    258.163080      2.763841     40.197828      0.580323   \n",
      "std        3.006911    257.527812      3.098021    100.128746      2.303441   \n",
      "min        0.000000      0.000000      1.000000     -1.000000      0.000000   \n",
      "25%        3.000000    103.000000      1.000000     -1.000000      0.000000   \n",
      "50%        6.000000    180.000000      2.000000     -1.000000      0.000000   \n",
      "75%        8.000000    319.000000      3.000000     -1.000000      0.000000   \n",
      "max       11.000000   4918.000000     63.000000    871.000000    275.000000   \n",
      "\n",
      "           poutcome             y  \n",
      "count  45211.000000  45211.000000  \n",
      "mean       2.559974      0.116985  \n",
      "std        0.989059      0.321406  \n",
      "min        0.000000      0.000000  \n",
      "25%        3.000000      0.000000  \n",
      "50%        3.000000      0.000000  \n",
      "75%        3.000000      0.000000  \n",
      "max        3.000000      1.000000  \n"
     ]
    }
   ],
   "source": [
    "print(df.describe())"
   ]
  },
  {
   "cell_type": "code",
   "execution_count": 6,
   "metadata": {},
   "outputs": [],
   "source": [
    "train_labels = np.array(df['y'])\n",
    "train_features= df.drop('y', axis = 1)\n",
    "test_labels = np.array(test['y'])\n",
    "test_features= test.drop('y', axis = 1)\n",
    "feature_list = list(df.columns)"
   ]
  },
  {
   "cell_type": "code",
   "execution_count": 7,
   "metadata": {},
   "outputs": [],
   "source": [
    "rf = RandomForestRegressor(n_estimators = 1000, random_state = 42)\n",
    "rf.fit(train_features, train_labels);"
   ]
  },
  {
   "cell_type": "code",
   "execution_count": 8,
   "metadata": {},
   "outputs": [
    {
     "name": "stdout",
     "output_type": "stream",
     "text": [
      "Mean Absolute Error: 0.05 degrees.\n"
     ]
    }
   ],
   "source": [
    "predictions = rf.predict(test_features)\n",
    "errors = abs(predictions - test_labels)\n",
    "print('Mean Absolute Error:', round(np.mean(errors), 2), 'degrees.')"
   ]
  },
  {
   "cell_type": "code",
   "execution_count": 9,
   "metadata": {},
   "outputs": [
    {
     "data": {
      "text/plain": [
       "0    4000\n",
       "1     521\n",
       "Name: y, dtype: int64"
      ]
     },
     "execution_count": 9,
     "metadata": {},
     "output_type": "execute_result"
    }
   ],
   "source": [
    "test['y'].value_counts()"
   ]
  },
  {
   "cell_type": "code",
   "execution_count": 10,
   "metadata": {},
   "outputs": [
    {
     "name": "stdout",
     "output_type": "stream",
     "text": [
      "1.0\n"
     ]
    }
   ],
   "source": [
    "accuracy = accuracy_score(test_labels, predictions.round())\n",
    "print(accuracy)"
   ]
  },
  {
   "cell_type": "code",
   "execution_count": 11,
   "metadata": {},
   "outputs": [
    {
     "name": "stdout",
     "output_type": "stream",
     "text": [
      "4000 total number of unnecesary calls\n"
     ]
    }
   ],
   "source": [
    "print(4521-521,\"total number of unnecesary calls\")"
   ]
  },
  {
   "cell_type": "code",
   "execution_count": 12,
   "metadata": {},
   "outputs": [
    {
     "name": "stdout",
     "output_type": "stream",
     "text": [
      "88.47600088476001 % of total savings in call\n",
      "100.0 % of prospects gained\n"
     ]
    }
   ],
   "source": [
    "print((4000/4521)*100,\"% of total savings in call\")\n",
    "print((521/521)*100,\"% of prospects gained\")"
   ]
  },
  {
   "cell_type": "code",
   "execution_count": 13,
   "metadata": {},
   "outputs": [],
   "source": [
    "#model has a possibility of overfitting"
   ]
  },
  {
   "cell_type": "code",
   "execution_count": null,
   "metadata": {},
   "outputs": [],
   "source": []
  }
 ],
 "metadata": {
  "kernelspec": {
   "display_name": "Python 3",
   "language": "python",
   "name": "python3"
  },
  "language_info": {
   "codemirror_mode": {
    "name": "ipython",
    "version": 3
   },
   "file_extension": ".py",
   "mimetype": "text/x-python",
   "name": "python",
   "nbconvert_exporter": "python",
   "pygments_lexer": "ipython3",
   "version": "3.7.1"
  }
 },
 "nbformat": 4,
 "nbformat_minor": 2
}
